{
 "cells": [
  {
   "cell_type": "code",
   "execution_count": 4,
   "metadata": {},
   "outputs": [
    {
     "ename": "ImportError",
     "evalue": "DLL load failed while importing _path: No se puede encontrar el módulo especificado.",
     "output_type": "error",
     "traceback": [
      "\u001b[1;31m---------------------------------------------------------------------------\u001b[0m",
      "\u001b[1;31mImportError\u001b[0m                               Traceback (most recent call last)",
      "Cell \u001b[1;32mIn[4], line 5\u001b[0m\n\u001b[0;32m      1\u001b[0m \u001b[38;5;66;03m# import pandas as pd\u001b[39;00m\n\u001b[0;32m      2\u001b[0m \u001b[38;5;66;03m# import numpy as np\u001b[39;00m\n\u001b[0;32m      3\u001b[0m \u001b[38;5;66;03m# import datetime as dt\u001b[39;00m\n\u001b[0;32m      4\u001b[0m \u001b[38;5;66;03m# from datetime import timedelta, datetime\u001b[39;00m\n\u001b[1;32m----> 5\u001b[0m \u001b[38;5;28;01mimport\u001b[39;00m \u001b[38;5;21;01mmatplotlib\u001b[39;00m\u001b[38;5;21;01m.\u001b[39;00m\u001b[38;5;21;01mpyplot\u001b[39;00m \u001b[38;5;28;01mas\u001b[39;00m \u001b[38;5;21;01mplt\u001b[39;00m\n",
      "File \u001b[1;32m~\\AppData\\Local\\Packages\\PythonSoftwareFoundation.Python.3.11_qbz5n2kfra8p0\\LocalCache\\local-packages\\Python311\\site-packages\\matplotlib\\__init__.py:144\u001b[0m\n\u001b[0;32m    140\u001b[0m \u001b[38;5;28;01mfrom\u001b[39;00m \u001b[38;5;21;01mpackaging\u001b[39;00m\u001b[38;5;21;01m.\u001b[39;00m\u001b[38;5;21;01mversion\u001b[39;00m \u001b[38;5;28;01mimport\u001b[39;00m parse \u001b[38;5;28;01mas\u001b[39;00m parse_version\n\u001b[0;32m    142\u001b[0m \u001b[38;5;66;03m# cbook must import matplotlib only within function\u001b[39;00m\n\u001b[0;32m    143\u001b[0m \u001b[38;5;66;03m# definitions, so it is safe to import from it here.\u001b[39;00m\n\u001b[1;32m--> 144\u001b[0m \u001b[38;5;28;01mfrom\u001b[39;00m \u001b[38;5;21;01m.\u001b[39;00m \u001b[38;5;28;01mimport\u001b[39;00m _api, _version, cbook, _docstring, rcsetup\n\u001b[0;32m    145\u001b[0m \u001b[38;5;28;01mfrom\u001b[39;00m \u001b[38;5;21;01mmatplotlib\u001b[39;00m\u001b[38;5;21;01m.\u001b[39;00m\u001b[38;5;21;01mcbook\u001b[39;00m \u001b[38;5;28;01mimport\u001b[39;00m sanitize_sequence\n\u001b[0;32m    146\u001b[0m \u001b[38;5;28;01mfrom\u001b[39;00m \u001b[38;5;21;01mmatplotlib\u001b[39;00m\u001b[38;5;21;01m.\u001b[39;00m\u001b[38;5;21;01m_api\u001b[39;00m \u001b[38;5;28;01mimport\u001b[39;00m MatplotlibDeprecationWarning\n",
      "File \u001b[1;32m~\\AppData\\Local\\Packages\\PythonSoftwareFoundation.Python.3.11_qbz5n2kfra8p0\\LocalCache\\local-packages\\Python311\\site-packages\\matplotlib\\rcsetup.py:27\u001b[0m\n\u001b[0;32m     25\u001b[0m \u001b[38;5;28;01mfrom\u001b[39;00m \u001b[38;5;21;01mmatplotlib\u001b[39;00m \u001b[38;5;28;01mimport\u001b[39;00m _api, cbook\n\u001b[0;32m     26\u001b[0m \u001b[38;5;28;01mfrom\u001b[39;00m \u001b[38;5;21;01mmatplotlib\u001b[39;00m\u001b[38;5;21;01m.\u001b[39;00m\u001b[38;5;21;01mcbook\u001b[39;00m \u001b[38;5;28;01mimport\u001b[39;00m ls_mapper\n\u001b[1;32m---> 27\u001b[0m \u001b[38;5;28;01mfrom\u001b[39;00m \u001b[38;5;21;01mmatplotlib\u001b[39;00m\u001b[38;5;21;01m.\u001b[39;00m\u001b[38;5;21;01mcolors\u001b[39;00m \u001b[38;5;28;01mimport\u001b[39;00m Colormap, is_color_like\n\u001b[0;32m     28\u001b[0m \u001b[38;5;28;01mfrom\u001b[39;00m \u001b[38;5;21;01mmatplotlib\u001b[39;00m\u001b[38;5;21;01m.\u001b[39;00m\u001b[38;5;21;01m_fontconfig_pattern\u001b[39;00m \u001b[38;5;28;01mimport\u001b[39;00m parse_fontconfig_pattern\n\u001b[0;32m     29\u001b[0m \u001b[38;5;28;01mfrom\u001b[39;00m \u001b[38;5;21;01mmatplotlib\u001b[39;00m\u001b[38;5;21;01m.\u001b[39;00m\u001b[38;5;21;01m_enums\u001b[39;00m \u001b[38;5;28;01mimport\u001b[39;00m JoinStyle, CapStyle\n",
      "File \u001b[1;32m~\\AppData\\Local\\Packages\\PythonSoftwareFoundation.Python.3.11_qbz5n2kfra8p0\\LocalCache\\local-packages\\Python311\\site-packages\\matplotlib\\colors.py:56\u001b[0m\n\u001b[0;32m     54\u001b[0m \u001b[38;5;28;01mimport\u001b[39;00m \u001b[38;5;21;01mmatplotlib\u001b[39;00m \u001b[38;5;28;01mas\u001b[39;00m \u001b[38;5;21;01mmpl\u001b[39;00m\n\u001b[0;32m     55\u001b[0m \u001b[38;5;28;01mimport\u001b[39;00m \u001b[38;5;21;01mnumpy\u001b[39;00m \u001b[38;5;28;01mas\u001b[39;00m \u001b[38;5;21;01mnp\u001b[39;00m\n\u001b[1;32m---> 56\u001b[0m \u001b[38;5;28;01mfrom\u001b[39;00m \u001b[38;5;21;01mmatplotlib\u001b[39;00m \u001b[38;5;28;01mimport\u001b[39;00m _api, _cm, cbook, scale\n\u001b[0;32m     57\u001b[0m \u001b[38;5;28;01mfrom\u001b[39;00m \u001b[38;5;21;01m.\u001b[39;00m\u001b[38;5;21;01m_color_data\u001b[39;00m \u001b[38;5;28;01mimport\u001b[39;00m BASE_COLORS, TABLEAU_COLORS, CSS4_COLORS, XKCD_COLORS\n\u001b[0;32m     60\u001b[0m \u001b[38;5;28;01mclass\u001b[39;00m \u001b[38;5;21;01m_ColorMapping\u001b[39;00m(\u001b[38;5;28mdict\u001b[39m):\n",
      "File \u001b[1;32m~\\AppData\\Local\\Packages\\PythonSoftwareFoundation.Python.3.11_qbz5n2kfra8p0\\LocalCache\\local-packages\\Python311\\site-packages\\matplotlib\\scale.py:22\u001b[0m\n\u001b[0;32m     20\u001b[0m \u001b[38;5;28;01mimport\u001b[39;00m \u001b[38;5;21;01mmatplotlib\u001b[39;00m \u001b[38;5;28;01mas\u001b[39;00m \u001b[38;5;21;01mmpl\u001b[39;00m\n\u001b[0;32m     21\u001b[0m \u001b[38;5;28;01mfrom\u001b[39;00m \u001b[38;5;21;01mmatplotlib\u001b[39;00m \u001b[38;5;28;01mimport\u001b[39;00m _api, _docstring\n\u001b[1;32m---> 22\u001b[0m \u001b[38;5;28;01mfrom\u001b[39;00m \u001b[38;5;21;01mmatplotlib\u001b[39;00m\u001b[38;5;21;01m.\u001b[39;00m\u001b[38;5;21;01mticker\u001b[39;00m \u001b[38;5;28;01mimport\u001b[39;00m (\n\u001b[0;32m     23\u001b[0m     NullFormatter, ScalarFormatter, LogFormatterSciNotation, LogitFormatter,\n\u001b[0;32m     24\u001b[0m     NullLocator, LogLocator, AutoLocator, AutoMinorLocator,\n\u001b[0;32m     25\u001b[0m     SymmetricalLogLocator, AsinhLocator, LogitLocator)\n\u001b[0;32m     26\u001b[0m \u001b[38;5;28;01mfrom\u001b[39;00m \u001b[38;5;21;01mmatplotlib\u001b[39;00m\u001b[38;5;21;01m.\u001b[39;00m\u001b[38;5;21;01mtransforms\u001b[39;00m \u001b[38;5;28;01mimport\u001b[39;00m Transform, IdentityTransform\n\u001b[0;32m     29\u001b[0m \u001b[38;5;28;01mclass\u001b[39;00m \u001b[38;5;21;01mScaleBase\u001b[39;00m:\n",
      "File \u001b[1;32m~\\AppData\\Local\\Packages\\PythonSoftwareFoundation.Python.3.11_qbz5n2kfra8p0\\LocalCache\\local-packages\\Python311\\site-packages\\matplotlib\\ticker.py:138\u001b[0m\n\u001b[0;32m    136\u001b[0m \u001b[38;5;28;01mimport\u001b[39;00m \u001b[38;5;21;01mmatplotlib\u001b[39;00m \u001b[38;5;28;01mas\u001b[39;00m \u001b[38;5;21;01mmpl\u001b[39;00m\n\u001b[0;32m    137\u001b[0m \u001b[38;5;28;01mfrom\u001b[39;00m \u001b[38;5;21;01mmatplotlib\u001b[39;00m \u001b[38;5;28;01mimport\u001b[39;00m _api, cbook\n\u001b[1;32m--> 138\u001b[0m \u001b[38;5;28;01mfrom\u001b[39;00m \u001b[38;5;21;01mmatplotlib\u001b[39;00m \u001b[38;5;28;01mimport\u001b[39;00m transforms \u001b[38;5;28;01mas\u001b[39;00m mtransforms\n\u001b[0;32m    140\u001b[0m _log \u001b[38;5;241m=\u001b[39m logging\u001b[38;5;241m.\u001b[39mgetLogger(\u001b[38;5;18m__name__\u001b[39m)\n\u001b[0;32m    142\u001b[0m __all__ \u001b[38;5;241m=\u001b[39m (\u001b[38;5;124m'\u001b[39m\u001b[38;5;124mTickHelper\u001b[39m\u001b[38;5;124m'\u001b[39m, \u001b[38;5;124m'\u001b[39m\u001b[38;5;124mFormatter\u001b[39m\u001b[38;5;124m'\u001b[39m, \u001b[38;5;124m'\u001b[39m\u001b[38;5;124mFixedFormatter\u001b[39m\u001b[38;5;124m'\u001b[39m,\n\u001b[0;32m    143\u001b[0m            \u001b[38;5;124m'\u001b[39m\u001b[38;5;124mNullFormatter\u001b[39m\u001b[38;5;124m'\u001b[39m, \u001b[38;5;124m'\u001b[39m\u001b[38;5;124mFuncFormatter\u001b[39m\u001b[38;5;124m'\u001b[39m, \u001b[38;5;124m'\u001b[39m\u001b[38;5;124mFormatStrFormatter\u001b[39m\u001b[38;5;124m'\u001b[39m,\n\u001b[0;32m    144\u001b[0m            \u001b[38;5;124m'\u001b[39m\u001b[38;5;124mStrMethodFormatter\u001b[39m\u001b[38;5;124m'\u001b[39m, \u001b[38;5;124m'\u001b[39m\u001b[38;5;124mScalarFormatter\u001b[39m\u001b[38;5;124m'\u001b[39m, \u001b[38;5;124m'\u001b[39m\u001b[38;5;124mLogFormatter\u001b[39m\u001b[38;5;124m'\u001b[39m,\n\u001b[1;32m   (...)\u001b[0m\n\u001b[0;32m    150\u001b[0m            \u001b[38;5;124m'\u001b[39m\u001b[38;5;124mMultipleLocator\u001b[39m\u001b[38;5;124m'\u001b[39m, \u001b[38;5;124m'\u001b[39m\u001b[38;5;124mMaxNLocator\u001b[39m\u001b[38;5;124m'\u001b[39m, \u001b[38;5;124m'\u001b[39m\u001b[38;5;124mAutoMinorLocator\u001b[39m\u001b[38;5;124m'\u001b[39m,\n\u001b[0;32m    151\u001b[0m            \u001b[38;5;124m'\u001b[39m\u001b[38;5;124mSymmetricalLogLocator\u001b[39m\u001b[38;5;124m'\u001b[39m, \u001b[38;5;124m'\u001b[39m\u001b[38;5;124mAsinhLocator\u001b[39m\u001b[38;5;124m'\u001b[39m, \u001b[38;5;124m'\u001b[39m\u001b[38;5;124mLogitLocator\u001b[39m\u001b[38;5;124m'\u001b[39m)\n",
      "File \u001b[1;32m~\\AppData\\Local\\Packages\\PythonSoftwareFoundation.Python.3.11_qbz5n2kfra8p0\\LocalCache\\local-packages\\Python311\\site-packages\\matplotlib\\transforms.py:49\u001b[0m\n\u001b[0;32m     46\u001b[0m \u001b[38;5;28;01mfrom\u001b[39;00m \u001b[38;5;21;01mnumpy\u001b[39;00m\u001b[38;5;21;01m.\u001b[39;00m\u001b[38;5;21;01mlinalg\u001b[39;00m \u001b[38;5;28;01mimport\u001b[39;00m inv\n\u001b[0;32m     48\u001b[0m \u001b[38;5;28;01mfrom\u001b[39;00m \u001b[38;5;21;01mmatplotlib\u001b[39;00m \u001b[38;5;28;01mimport\u001b[39;00m _api\n\u001b[1;32m---> 49\u001b[0m \u001b[38;5;28;01mfrom\u001b[39;00m \u001b[38;5;21;01mmatplotlib\u001b[39;00m\u001b[38;5;21;01m.\u001b[39;00m\u001b[38;5;21;01m_path\u001b[39;00m \u001b[38;5;28;01mimport\u001b[39;00m (\n\u001b[0;32m     50\u001b[0m     affine_transform, count_bboxes_overlapping_bbox, update_path_extents)\n\u001b[0;32m     51\u001b[0m \u001b[38;5;28;01mfrom\u001b[39;00m \u001b[38;5;21;01m.\u001b[39;00m\u001b[38;5;21;01mpath\u001b[39;00m \u001b[38;5;28;01mimport\u001b[39;00m Path\n\u001b[0;32m     53\u001b[0m DEBUG \u001b[38;5;241m=\u001b[39m \u001b[38;5;28;01mFalse\u001b[39;00m\n",
      "\u001b[1;31mImportError\u001b[0m: DLL load failed while importing _path: No se puede encontrar el módulo especificado."
     ]
    }
   ],
   "source": [
    "# import pandas as pd\n",
    "# import numpy as np\n",
    "# import datetime as dt\n",
    "# from datetime import timedelta, datetime\n",
    "import matplotlib.pyplot as plt"
   ]
  },
  {
   "cell_type": "code",
   "execution_count": 111,
   "metadata": {},
   "outputs": [],
   "source": [
    "%matplotlib inline"
   ]
  },
  {
   "cell_type": "markdown",
   "metadata": {},
   "source": [
    "# 1st Scenario"
   ]
  },
  {
   "cell_type": "code",
   "execution_count": 112,
   "metadata": {},
   "outputs": [],
   "source": [
    "# given mean trip duration\n",
    "mean_trip = 100\n",
    "# assumed standard deviation\n",
    "std_trip = 20\n",
    "# number of trips\n",
    "n_trip = 10000\n",
    "# % RPC lost\n",
    "shrinkage_rate = 0.1 \n",
    "# replication\n",
    "np.random.seed(42)"
   ]
  },
  {
   "cell_type": "code",
   "execution_count": 113,
   "metadata": {},
   "outputs": [],
   "source": [
    "sim = np.random.normal(mean_trip, std_trip, n_trip)"
   ]
  },
  {
   "cell_type": "code",
   "execution_count": 114,
   "metadata": {},
   "outputs": [
    {
     "data": {
      "text/plain": [
       "(array([  1.,   1.,   1.,   0.,   1.,   0.,   0.,   0.,   3.,   3.,   0.,\n",
       "          4.,   7.,  11.,   4.,   8.,  10.,  10.,  14.,  20.,  11.,  28.,\n",
       "         34.,  42.,  45.,  49.,  59.,  76.,  60.,  81., 110., 103., 144.,\n",
       "        120., 146., 159., 175., 204., 199., 245., 233., 235., 276., 277.,\n",
       "        273., 298., 303., 315., 285., 336., 311., 301., 317., 299., 296.,\n",
       "        292., 276., 260., 266., 226., 212., 181., 190., 188., 160., 162.,\n",
       "        125., 126., 106.,  93.,  99.,  83.,  60.,  50.,  47.,  39.,  47.,\n",
       "         34.,  19.,  20.,  16.,  15.,  15.,  10.,   7.,   8.,   2.,   6.,\n",
       "          2.,   7.,   3.,   1.,   0.,   1.,   1.,   0.,   0.,   0.,   0.,\n",
       "          2.]),\n",
       " array([ 21.55199497,  23.12172256,  24.69145015,  26.26117774,\n",
       "         27.83090533,  29.40063293,  30.97036052,  32.54008811,\n",
       "         34.1098157 ,  35.67954329,  37.24927088,  38.81899848,\n",
       "         40.38872607,  41.95845366,  43.52818125,  45.09790884,\n",
       "         46.66763643,  48.23736403,  49.80709162,  51.37681921,\n",
       "         52.9465468 ,  54.51627439,  56.08600198,  57.65572957,\n",
       "         59.22545717,  60.79518476,  62.36491235,  63.93463994,\n",
       "         65.50436753,  67.07409512,  68.64382272,  70.21355031,\n",
       "         71.7832779 ,  73.35300549,  74.92273308,  76.49246067,\n",
       "         78.06218827,  79.63191586,  81.20164345,  82.77137104,\n",
       "         84.34109863,  85.91082622,  87.48055382,  89.05028141,\n",
       "         90.620009  ,  92.18973659,  93.75946418,  95.32919177,\n",
       "         96.89891936,  98.46864696, 100.03837455, 101.60810214,\n",
       "        103.17782973, 104.74755732, 106.31728491, 107.88701251,\n",
       "        109.4567401 , 111.02646769, 112.59619528, 114.16592287,\n",
       "        115.73565046, 117.30537806, 118.87510565, 120.44483324,\n",
       "        122.01456083, 123.58428842, 125.15401601, 126.72374361,\n",
       "        128.2934712 , 129.86319879, 131.43292638, 133.00265397,\n",
       "        134.57238156, 136.14210916, 137.71183675, 139.28156434,\n",
       "        140.85129193, 142.42101952, 143.99074711, 145.5604747 ,\n",
       "        147.1302023 , 148.69992989, 150.26965748, 151.83938507,\n",
       "        153.40911266, 154.97884025, 156.54856785, 158.11829544,\n",
       "        159.68802303, 161.25775062, 162.82747821, 164.3972058 ,\n",
       "        165.9669334 , 167.53666099, 169.10638858, 170.67611617,\n",
       "        172.24584376, 173.81557135, 175.38529895, 176.95502654,\n",
       "        178.52475413]),\n",
       " <BarContainer object of 100 artists>)"
      ]
     },
     "execution_count": 114,
     "metadata": {},
     "output_type": "execute_result"
    },
    {
     "data": {
      "image/png": "[encoded data removed]",
      "text/plain": [
       "<Figure size 640x480 with 1 Axes>"
      ]
     },
     "metadata": {},
     "output_type": "display_data"
    }
   ],
   "source": [
    "# ?np.random.normal\n",
    "# ?np.random.seed\n",
    "# set random seed\n",
    "# np.random.seed(0)\n",
    "\n",
    "plt.hist(sim, bins=100, alpha=0.6, color='g')"
   ]
  },
  {
   "cell_type": "code",
   "execution_count": 115,
   "metadata": {},
   "outputs": [
    {
     "data": {
      "text/plain": [
       "(array([  1.,   1.,   2.,   0.,   2.,   3.,   0.,   3.,   1.,   0.,   5.,\n",
       "          7.,  11.,   0.,  16.,  24.,   0.,  26.,  25.,   0.,  39.,  50.,\n",
       "         67.,   0.,  86.,  79.,   0., 131., 136.,   0., 135., 165., 205.,\n",
       "          0., 232., 243.,   0., 282., 293.,   0., 309., 329., 379.,   0.,\n",
       "        360., 387.,   0., 373., 405.,   0., 474., 395., 403.,   0., 382.,\n",
       "        378.,   0., 356., 313.,   0., 326., 276., 258.,   0., 204., 215.,\n",
       "          0., 180., 162.,   0., 148., 118.,  97.,   0., 108.,  62.,   0.,\n",
       "         73.,  50.,   0.,  35.,  38.,  38.,   0.,  25.,  17.,   0.,  12.,\n",
       "         11.,   0.,   6.,   9.,   3.,   0.,   4.,   6.,   0.,   4.,   1.,\n",
       "          1.]),\n",
       " array([ 65. ,  65.7,  66.4,  67.1,  67.8,  68.5,  69.2,  69.9,  70.6,\n",
       "         71.3,  72. ,  72.7,  73.4,  74.1,  74.8,  75.5,  76.2,  76.9,\n",
       "         77.6,  78.3,  79. ,  79.7,  80.4,  81.1,  81.8,  82.5,  83.2,\n",
       "         83.9,  84.6,  85.3,  86. ,  86.7,  87.4,  88.1,  88.8,  89.5,\n",
       "         90.2,  90.9,  91.6,  92.3,  93. ,  93.7,  94.4,  95.1,  95.8,\n",
       "         96.5,  97.2,  97.9,  98.6,  99.3, 100. , 100.7, 101.4, 102.1,\n",
       "        102.8, 103.5, 104.2, 104.9, 105.6, 106.3, 107. , 107.7, 108.4,\n",
       "        109.1, 109.8, 110.5, 111.2, 111.9, 112.6, 113.3, 114. , 114.7,\n",
       "        115.4, 116.1, 116.8, 117.5, 118.2, 118.9, 119.6, 120.3, 121. ,\n",
       "        121.7, 122.4, 123.1, 123.8, 124.5, 125.2, 125.9, 126.6, 127.3,\n",
       "        128. , 128.7, 129.4, 130.1, 130.8, 131.5, 132.2, 132.9, 133.6,\n",
       "        134.3, 135. ]),\n",
       " <BarContainer object of 100 artists>)"
      ]
     },
     "execution_count": 115,
     "metadata": {},
     "output_type": "execute_result"
    },
    {
     "data": {
      "image/png": "[encoded data removed]",
      "text/plain": [
       "<Figure size 640x480 with 1 Axes>"
      ]
     },
     "metadata": {},
     "output_type": "display_data"
    }
   ],
   "source": [
    "sim_p = np.random.poisson(100,10000)\n",
    "\n",
    "plt.hist(sim_p, bins=100, alpha=0.6, color='r')"
   ]
  },
  {
   "cell_type": "code",
   "execution_count": 116,
   "metadata": {},
   "outputs": [
    {
     "name": "stdout",
     "output_type": "stream",
     "text": [
      "21.55199496763315 178.52475412872653\n",
      "65 135\n"
     ]
    }
   ],
   "source": [
    "print(sim.min(),\n",
    "sim.max())\n",
    "print(sim_p.min(),\n",
    "sim_p.max())"
   ]
  },
  {
   "cell_type": "code",
   "execution_count": 117,
   "metadata": {},
   "outputs": [
    {
     "name": "stdout",
     "output_type": "stream",
     "text": [
      "2020-01-01 00:00:00\n",
      "[datetime.datetime(2022, 9, 15, 0, 0), datetime.datetime(2020, 6, 20, 0, 0), datetime.datetime(2021, 11, 5, 0, 0), datetime.datetime(2022, 3, 7, 0, 0), datetime.datetime(2020, 8, 31, 0, 0), datetime.datetime(2021, 2, 24, 0, 0), datetime.datetime(2021, 1, 13, 0, 0), datetime.datetime(2020, 12, 6, 0, 0), datetime.datetime(2022, 8, 11, 0, 0), datetime.datetime(2021, 11, 1, 0, 0)]\n"
     ]
    }
   ],
   "source": [
    "# Generate rental dates\n",
    "start_date = datetime(2020, 1, 1)\n",
    "rental_dates = [start_date + timedelta(days=np.random.randint(0, 365 * 3)) for _ in range(n_trip)]\n",
    "\n",
    "print(start_date)\n",
    "print(rental_dates[:10])\n"
   ]
  },
  {
   "cell_type": "code",
   "execution_count": 118,
   "metadata": {},
   "outputs": [],
   "source": [
    "is_lost = np.random.rand(n_trip) < shrinkage_rate\n",
    "return_dates = [\n",
    "    rental_dates[i] + timedelta(days=int(sim_p[i])) if not is_lost[i] else None\n",
    "    for i in range(n_trip)\n",
    "]"
   ]
  },
  {
   "cell_type": "code",
   "execution_count": 119,
   "metadata": {},
   "outputs": [
    {
     "data": {
      "text/html": [
       "<div>\n",
       "<style scoped>\n",
       "    .dataframe tbody tr th:only-of-type {\n",
       "        vertical-align: middle;\n",
       "    }\n",
       "\n",
       "    .dataframe tbody tr th {\n",
       "        vertical-align: top;\n",
       "    }\n",
       "\n",
       "    .dataframe thead th {\n",
       "        text-align: right;\n",
       "    }\n",
       "</style>\n",
       "<table border=\"1\" class=\"dataframe\">\n",
       "  <thead>\n",
       "    <tr style=\"text-align: right;\">\n",
       "      <th></th>\n",
       "      <th>rental_date</th>\n",
       "      <th>return_date</th>\n",
       "      <th>is_lost</th>\n",
       "      <th>n_days</th>\n",
       "      <th>sim_p</th>\n",
       "    </tr>\n",
       "  </thead>\n",
       "  <tbody>\n",
       "    <tr>\n",
       "      <th>0</th>\n",
       "      <td>2022-09-15</td>\n",
       "      <td>2022-12-19</td>\n",
       "      <td>False</td>\n",
       "      <td>95.0</td>\n",
       "      <td>95</td>\n",
       "    </tr>\n",
       "    <tr>\n",
       "      <th>1</th>\n",
       "      <td>2020-06-20</td>\n",
       "      <td>2020-09-10</td>\n",
       "      <td>False</td>\n",
       "      <td>82.0</td>\n",
       "      <td>82</td>\n",
       "    </tr>\n",
       "    <tr>\n",
       "      <th>2</th>\n",
       "      <td>2021-11-05</td>\n",
       "      <td>2022-02-15</td>\n",
       "      <td>False</td>\n",
       "      <td>102.0</td>\n",
       "      <td>102</td>\n",
       "    </tr>\n",
       "    <tr>\n",
       "      <th>3</th>\n",
       "      <td>2022-03-07</td>\n",
       "      <td>2022-06-10</td>\n",
       "      <td>False</td>\n",
       "      <td>95.0</td>\n",
       "      <td>95</td>\n",
       "    </tr>\n",
       "    <tr>\n",
       "      <th>4</th>\n",
       "      <td>2020-08-31</td>\n",
       "      <td>2020-12-03</td>\n",
       "      <td>False</td>\n",
       "      <td>94.0</td>\n",
       "      <td>94</td>\n",
       "    </tr>\n",
       "  </tbody>\n",
       "</table>\n",
       "</div>"
      ],
      "text/plain": [
       "  rental_date return_date  is_lost  n_days  sim_p\n",
       "0  2022-09-15  2022-12-19    False    95.0     95\n",
       "1  2020-06-20  2020-09-10    False    82.0     82\n",
       "2  2021-11-05  2022-02-15    False   102.0    102\n",
       "3  2022-03-07  2022-06-10    False    95.0     95\n",
       "4  2020-08-31  2020-12-03    False    94.0     94"
      ]
     },
     "execution_count": 119,
     "metadata": {},
     "output_type": "execute_result"
    }
   ],
   "source": [
    "# Create a DataFrame\n",
    "data = pd.DataFrame({\n",
    "    \"rental_date\": rental_dates,\n",
    "    \"return_date\": return_dates,\n",
    "    \"is_lost\": is_lost\n",
    "})\n",
    "\n",
    "data['n_days'] = (data['return_date'] - data['rental_date']).dt.days\n",
    "data['sim_p'] = sim_p\n",
    "\n",
    "data.head()"
   ]
  },
  {
   "cell_type": "code",
   "execution_count": 120,
   "metadata": {},
   "outputs": [
    {
     "data": {
      "text/html": [
       "<div>\n",
       "<style scoped>\n",
       "    .dataframe tbody tr th:only-of-type {\n",
       "        vertical-align: middle;\n",
       "    }\n",
       "\n",
       "    .dataframe tbody tr th {\n",
       "        vertical-align: top;\n",
       "    }\n",
       "\n",
       "    .dataframe thead th {\n",
       "        text-align: right;\n",
       "    }\n",
       "</style>\n",
       "<table border=\"1\" class=\"dataframe\">\n",
       "  <thead>\n",
       "    <tr style=\"text-align: right;\">\n",
       "      <th></th>\n",
       "      <th>rental_date</th>\n",
       "      <th>return_date</th>\n",
       "      <th>is_lost</th>\n",
       "      <th>n_days</th>\n",
       "      <th>sim_p</th>\n",
       "    </tr>\n",
       "  </thead>\n",
       "  <tbody>\n",
       "    <tr>\n",
       "      <th>13</th>\n",
       "      <td>2020-07-06</td>\n",
       "      <td>NaT</td>\n",
       "      <td>True</td>\n",
       "      <td>NaN</td>\n",
       "      <td>107</td>\n",
       "    </tr>\n",
       "    <tr>\n",
       "      <th>17</th>\n",
       "      <td>2022-04-16</td>\n",
       "      <td>NaT</td>\n",
       "      <td>True</td>\n",
       "      <td>NaN</td>\n",
       "      <td>108</td>\n",
       "    </tr>\n",
       "    <tr>\n",
       "      <th>18</th>\n",
       "      <td>2021-08-13</td>\n",
       "      <td>NaT</td>\n",
       "      <td>True</td>\n",
       "      <td>NaN</td>\n",
       "      <td>89</td>\n",
       "    </tr>\n",
       "    <tr>\n",
       "      <th>23</th>\n",
       "      <td>2021-06-19</td>\n",
       "      <td>NaT</td>\n",
       "      <td>True</td>\n",
       "      <td>NaN</td>\n",
       "      <td>82</td>\n",
       "    </tr>\n",
       "    <tr>\n",
       "      <th>26</th>\n",
       "      <td>2021-10-20</td>\n",
       "      <td>NaT</td>\n",
       "      <td>True</td>\n",
       "      <td>NaN</td>\n",
       "      <td>115</td>\n",
       "    </tr>\n",
       "    <tr>\n",
       "      <th>...</th>\n",
       "      <td>...</td>\n",
       "      <td>...</td>\n",
       "      <td>...</td>\n",
       "      <td>...</td>\n",
       "      <td>...</td>\n",
       "    </tr>\n",
       "    <tr>\n",
       "      <th>9976</th>\n",
       "      <td>2020-02-04</td>\n",
       "      <td>NaT</td>\n",
       "      <td>True</td>\n",
       "      <td>NaN</td>\n",
       "      <td>99</td>\n",
       "    </tr>\n",
       "    <tr>\n",
       "      <th>9977</th>\n",
       "      <td>2022-06-13</td>\n",
       "      <td>NaT</td>\n",
       "      <td>True</td>\n",
       "      <td>NaN</td>\n",
       "      <td>114</td>\n",
       "    </tr>\n",
       "    <tr>\n",
       "      <th>9980</th>\n",
       "      <td>2020-07-02</td>\n",
       "      <td>NaT</td>\n",
       "      <td>True</td>\n",
       "      <td>NaN</td>\n",
       "      <td>107</td>\n",
       "    </tr>\n",
       "    <tr>\n",
       "      <th>9992</th>\n",
       "      <td>2022-03-07</td>\n",
       "      <td>NaT</td>\n",
       "      <td>True</td>\n",
       "      <td>NaN</td>\n",
       "      <td>109</td>\n",
       "    </tr>\n",
       "    <tr>\n",
       "      <th>9995</th>\n",
       "      <td>2022-06-19</td>\n",
       "      <td>NaT</td>\n",
       "      <td>True</td>\n",
       "      <td>NaN</td>\n",
       "      <td>96</td>\n",
       "    </tr>\n",
       "  </tbody>\n",
       "</table>\n",
       "<p>975 rows × 5 columns</p>\n",
       "</div>"
      ],
      "text/plain": [
       "     rental_date return_date  is_lost  n_days  sim_p\n",
       "13    2020-07-06         NaT     True     NaN    107\n",
       "17    2022-04-16         NaT     True     NaN    108\n",
       "18    2021-08-13         NaT     True     NaN     89\n",
       "23    2021-06-19         NaT     True     NaN     82\n",
       "26    2021-10-20         NaT     True     NaN    115\n",
       "...          ...         ...      ...     ...    ...\n",
       "9976  2020-02-04         NaT     True     NaN     99\n",
       "9977  2022-06-13         NaT     True     NaN    114\n",
       "9980  2020-07-02         NaT     True     NaN    107\n",
       "9992  2022-03-07         NaT     True     NaN    109\n",
       "9995  2022-06-19         NaT     True     NaN     96\n",
       "\n",
       "[975 rows x 5 columns]"
      ]
     },
     "execution_count": 120,
     "metadata": {},
     "output_type": "execute_result"
    }
   ],
   "source": [
    "data.loc[data.is_lost == True]"
   ]
  },
  {
   "cell_type": "code",
   "execution_count": 121,
   "metadata": {},
   "outputs": [
    {
     "data": {
      "text/plain": [
       "9025"
      ]
     },
     "execution_count": 121,
     "metadata": {},
     "output_type": "execute_result"
    }
   ],
   "source": [
    "sum(data['is_lost']==False) "
   ]
  },
  {
   "cell_type": "code",
   "execution_count": 122,
   "metadata": {},
   "outputs": [],
   "source": [
    "from lifelines import KaplanMeierFitter"
   ]
  },
  {
   "cell_type": "code",
   "execution_count": 123,
   "metadata": {},
   "outputs": [],
   "source": [
    "# Prepare survival data\n",
    "data['trip_completed'] = data['return_date'].notnull()  # 1 if returned, 0 if lost\n",
    "data['trip_duration'] = (data['return_date'] - data['rental_date']).dt.days\n",
    "data['trip_duration'].fillna(data['trip_duration'].max(), inplace=True)  # Handle NaN for lost RPCs"
   ]
  },
  {
   "cell_type": "code",
   "execution_count": 124,
   "metadata": {},
   "outputs": [
    {
     "data": {
      "text/plain": [
       "(array([  13.,  105.,  535., 1388., 2328., 2415., 1470.,  584.,  158.,\n",
       "        1004.]),\n",
       " array([ 65.,  72.,  79.,  86.,  93., 100., 107., 114., 121., 128., 135.]),\n",
       " <BarContainer object of 10 artists>)"
      ]
     },
     "execution_count": 124,
     "metadata": {},
     "output_type": "execute_result"
    },
    {
     "data": {
      "image/png": "[encoded data removed]",
      "text/plain": [
       "<Figure size 640x480 with 1 Axes>"
      ]
     },
     "metadata": {},
     "output_type": "display_data"
    }
   ],
   "source": [
    "plt.hist(data['trip_duration'])"
   ]
  },
  {
   "cell_type": "code",
   "execution_count": 125,
   "metadata": {},
   "outputs": [
    {
     "data": {
      "text/plain": [
       "<lifelines.KaplanMeierFitter:\"KM_estimate\", fitted with 10000 total observations, 975 right-censored observations>"
      ]
     },
     "execution_count": 125,
     "metadata": {},
     "output_type": "execute_result"
    }
   ],
   "source": [
    "# Fit Kaplan-Meier estimator\n",
    "kmf = KaplanMeierFitter()\n",
    "kmf.fit(data['trip_duration'], event_observed=data['trip_completed'])"
   ]
  },
  {
   "cell_type": "code",
   "execution_count": 127,
   "metadata": {},
   "outputs": [
    {
     "data": {
      "text/html": [
       "<div>\n",
       "<style scoped>\n",
       "    .dataframe tbody tr th:only-of-type {\n",
       "        vertical-align: middle;\n",
       "    }\n",
       "\n",
       "    .dataframe tbody tr th {\n",
       "        vertical-align: top;\n",
       "    }\n",
       "\n",
       "    .dataframe thead th {\n",
       "        text-align: right;\n",
       "    }\n",
       "</style>\n",
       "<table border=\"1\" class=\"dataframe\">\n",
       "  <thead>\n",
       "    <tr style=\"text-align: right;\">\n",
       "      <th></th>\n",
       "      <th>KM_estimate</th>\n",
       "    </tr>\n",
       "    <tr>\n",
       "      <th>timeline</th>\n",
       "      <th></th>\n",
       "    </tr>\n",
       "  </thead>\n",
       "  <tbody>\n",
       "    <tr>\n",
       "      <th>0.0</th>\n",
       "      <td>1.0000</td>\n",
       "    </tr>\n",
       "    <tr>\n",
       "      <th>65.0</th>\n",
       "      <td>0.9999</td>\n",
       "    </tr>\n",
       "    <tr>\n",
       "      <th>66.0</th>\n",
       "      <td>0.9998</td>\n",
       "    </tr>\n",
       "    <tr>\n",
       "      <th>67.0</th>\n",
       "      <td>0.9996</td>\n",
       "    </tr>\n",
       "    <tr>\n",
       "      <th>68.0</th>\n",
       "      <td>0.9994</td>\n",
       "    </tr>\n",
       "    <tr>\n",
       "      <th>...</th>\n",
       "      <td>...</td>\n",
       "    </tr>\n",
       "    <tr>\n",
       "      <th>131.0</th>\n",
       "      <td>0.0985</td>\n",
       "    </tr>\n",
       "    <tr>\n",
       "      <th>132.0</th>\n",
       "      <td>0.0980</td>\n",
       "    </tr>\n",
       "    <tr>\n",
       "      <th>133.0</th>\n",
       "      <td>0.0977</td>\n",
       "    </tr>\n",
       "    <tr>\n",
       "      <th>134.0</th>\n",
       "      <td>0.0976</td>\n",
       "    </tr>\n",
       "    <tr>\n",
       "      <th>135.0</th>\n",
       "      <td>0.0975</td>\n",
       "    </tr>\n",
       "  </tbody>\n",
       "</table>\n",
       "<p>72 rows × 1 columns</p>\n",
       "</div>"
      ],
      "text/plain": [
       "          KM_estimate\n",
       "timeline             \n",
       "0.0            1.0000\n",
       "65.0           0.9999\n",
       "66.0           0.9998\n",
       "67.0           0.9996\n",
       "68.0           0.9994\n",
       "...               ...\n",
       "131.0          0.0985\n",
       "132.0          0.0980\n",
       "133.0          0.0977\n",
       "134.0          0.0976\n",
       "135.0          0.0975\n",
       "\n",
       "[72 rows x 1 columns]"
      ]
     },
     "execution_count": 127,
     "metadata": {},
     "output_type": "execute_result"
    }
   ],
   "source": [
    "# Plot survival curve\n",
    "# kmf.plot_survival_function()\n",
    "kmf.survival_function_\n",
    "# plt.title('Survival Function (Probability of RPC Not Being Lost)')\n",
    "# plt.xlabel('Days Since Rental')\n",
    "# plt.ylabel('Survival Probability')\n",
    "# plt.show()"
   ]
  },
  {
   "cell_type": "code",
   "execution_count": null,
   "metadata": {},
   "outputs": [
    {
     "data": {
      "image/png": "[encoded data removed]",
      "text/plain": [
       "<Figure size 640x480 with 1 Axes>"
      ]
     },
     "metadata": {},
     "output_type": "display_data"
    }
   ],
   "source": [
    "# pip list\n",
    "import matplotlib.pyplot as plt\n",
    "\n",
    "# Test plot\n",
    "plt.plot([1, 2, 3], [4, 5, 6])\n",
    "plt.title(\"Test Plot\")\n",
    "plt.show()\n"
   ]
  },
  {
   "cell_type": "code",
   "execution_count": 107,
   "metadata": {},
   "outputs": [
    {
     "name": "stdout",
     "output_type": "stream",
     "text": [
      "Package                      Version\n",
      "---------------------------- -----------\n",
      "absl-py                      2.1.0\n",
      "adagio                       0.2.6\n",
      "aiohappyeyeballs             2.4.3\n",
      "aiohttp                      3.10.10\n",
      "aiosignal                    1.3.1\n",
      "altair                       5.1.1\n",
      "anyio                        4.0.0\n",
      "appdirs                      1.4.4\n",
      "argon2-cffi                  23.1.0\n",
      "argon2-cffi-bindings         21.2.0\n",
      "arrow                        1.3.0\n",
      "asttokens                    2.2.1\n",
      "astunparse                   1.6.3\n",
      "async-lru                    2.0.4\n",
      "attrs                        23.1.0\n",
      "autograd                     1.7.0\n",
      "autograd-gamma               0.5.0\n",
      "Babel                        2.13.1\n",
      "backcall                     0.2.0\n",
      "beautifulsoup4               4.12.2\n",
      "bleach                       6.1.0\n",
      "blinker                      1.6.3\n",
      "bs4                          0.0.1\n",
      "cachetools                   5.3.2\n",
      "certifi                      2023.7.22\n",
      "cffi                         1.16.0\n",
      "charset-normalizer           3.3.0\n",
      "click                        8.1.7\n",
      "cloudpickle                  2.2.1\n",
      "colorama                     0.4.6\n",
      "comm                         0.1.4\n",
      "contourpy                    1.1.0\n",
      "coreforecast                 0.0.13.1\n",
      "cycler                       0.11.0\n",
      "datasetsforecast             0.0.8\n",
      "debugpy                      1.6.7\n",
      "decorator                    5.1.1\n",
      "defusedxml                   0.7.1\n",
      "entrypoints                  0.4\n",
      "executing                    1.2.0\n",
      "fastjsonschema               2.18.1\n",
      "filelock                     3.12.4\n",
      "Flask                        3.0.0\n",
      "flatbuffers                  23.5.26\n",
      "fonttools                    4.42.0\n",
      "formulaic                    1.0.2\n",
      "fqdn                         1.5.1\n",
      "frozenlist                   1.4.1\n",
      "fs                           2.4.16\n",
      "fsspec                       2023.9.2\n",
      "fugue                        0.9.1\n",
      "gast                         0.5.4\n",
      "google-auth                  2.28.1\n",
      "google-auth-oauthlib         1.2.0\n",
      "google-pasta                 0.2.0\n",
      "grpcio                       1.62.0\n",
      "h11                          0.14.0\n",
      "h5py                         3.10.0\n",
      "hierarchicalforecast         0.4.3\n",
      "huggingface-hub              0.17.3\n",
      "idna                         3.4\n",
      "interface-meta               1.3.0\n",
      "ipykernel                    6.25.1\n",
      "ipython                      8.14.0\n",
      "ipython-genutils             0.2.0\n",
      "ipywidgets                   8.1.1\n",
      "isoduration                  20.11.0\n",
      "itsdangerous                 2.1.2\n",
      "jedi                         0.19.0\n",
      "Jinja2                       3.1.2\n",
      "joblib                       1.3.2\n",
      "json5                        0.9.14\n",
      "jsonpointer                  2.4\n",
      "jsonschema                   4.19.1\n",
      "jsonschema-specifications    2023.7.1\n",
      "jupyter_client               7.4.9\n",
      "jupyter_core                 5.3.1\n",
      "jupyter-events               0.9.0\n",
      "jupyter-lsp                  2.2.0\n",
      "jupyter_server               2.10.0\n",
      "jupyter_server_terminals     0.4.4\n",
      "jupyterlab                   4.0.8\n",
      "jupyterlab-pygments          0.2.2\n",
      "jupyterlab_server            2.25.1\n",
      "jupyterlab-widgets           3.0.9\n",
      "keras                        2.15.0\n",
      "kiwisolver                   1.4.4\n",
      "libclang                     16.0.6\n",
      "lightgbm                     4.1.0\n",
      "llvmlite                     0.41.0\n",
      "lxml                         4.9.3\n",
      "Markdown                     3.5.2\n",
      "MarkupSafe                   2.1.3\n",
      "matplotlib                   3.9.2\n",
      "matplotlib-inline            0.1.6\n",
      "mistune                      3.0.2\n",
      "ml-dtypes                    0.2.0\n",
      "mpmath                       1.3.0\n",
      "multidict                    6.1.0\n",
      "nbclient                     0.9.0\n",
      "nbconvert                    7.11.0\n",
      "nbformat                     5.9.2\n",
      "nest-asyncio                 1.5.7\n",
      "networkx                     3.1\n",
      "neuralgym                    0.0.1\n",
      "nltk                         3.8.1\n",
      "notebook                     7.0.6\n",
      "notebook_shim                0.2.3\n",
      "numba                        0.58.0\n",
      "numpy                        1.25.2\n",
      "oauthlib                     3.2.2\n",
      "opencv-python                4.10.0.84\n",
      "opt-einsum                   3.3.0\n",
      "outcome                      1.3.0.post0\n",
      "overrides                    7.4.0\n",
      "packaging                    23.1\n",
      "pandas                       2.2.3\n",
      "pandocfilters                1.5.0\n",
      "parso                        0.8.3\n",
      "patsy                        0.5.3\n",
      "pickleshare                  0.7.5\n",
      "Pillow                       10.0.0\n",
      "pip                          24.1.2\n",
      "platformdirs                 3.10.0\n",
      "plotly                       5.17.0\n",
      "prince                       0.12.1\n",
      "prometheus-client            0.18.0\n",
      "prompt-toolkit               3.0.39\n",
      "propcache                    0.2.0\n",
      "protobuf                     4.25.3\n",
      "psutil                       5.9.5\n",
      "pure-eval                    0.2.2\n",
      "pyarrow                      17.0.0\n",
      "pyasn1                       0.5.1\n",
      "pyasn1-modules               0.3.0\n",
      "pycparser                    2.21\n",
      "Pygments                     2.16.1\n",
      "pyod                         1.1.0\n",
      "pyparsing                    3.0.9\n",
      "pyprojroot                   0.3.0\n",
      "PySocks                      1.7.1\n",
      "python-dateutil              2.8.2\n",
      "python-json-logger           2.0.7\n",
      "pytz                         2023.3\n",
      "pywin32                      306\n",
      "pywinpty                     2.0.12\n",
      "PyYAML                       6.0.1\n",
      "pyzmq                        24.0.1\n",
      "quadprog                     0.1.12\n",
      "referencing                  0.30.2\n",
      "regex                        2023.8.8\n",
      "requests                     2.31.0\n",
      "requests-oauthlib            1.3.1\n",
      "rfc3339-validator            0.1.4\n",
      "rfc3986-validator            0.1.1\n",
      "rpds-py                      0.10.3\n",
      "rsa                          4.9\n",
      "safetensors                  0.3.3\n",
      "scikit-learn                 1.5.0\n",
      "scipy                        1.11.1\n",
      "seaborn                      0.13.0\n",
      "selenium                     4.17.2\n",
      "Send2Trash                   1.8.2\n",
      "sentencepiece                0.1.99\n",
      "shap                         0.42.1\n",
      "six                          1.16.0\n",
      "slicer                       0.0.7\n",
      "sniffio                      1.3.0\n",
      "sortedcontainers             2.4.0\n",
      "soupsieve                    2.5\n",
      "stack-data                   0.6.2\n",
      "statsforecast                1.7.8\n",
      "statsmodels                  0.14.0\n",
      "sympy                        1.12\n",
      "tenacity                     8.2.3\n",
      "tensorboard                  2.15.2\n",
      "tensorboard-data-server      0.7.2\n",
      "tensorflow                   2.15.0\n",
      "tensorflow-estimator         2.15.0\n",
      "tensorflow-intel             2.15.0\n",
      "tensorflow-io-gcs-filesystem 0.31.0\n",
      "termcolor                    2.4.0\n",
      "terminado                    0.18.0\n",
      "tf-slim                      1.1.0\n",
      "threadpoolctl                3.2.0\n",
      "tinycss2                     1.2.1\n",
      "tokenizers                   0.13.3\n",
      "toolz                        0.12.0\n",
      "torch                        2.0.1\n",
      "torchvision                  0.15.2\n",
      "tornado                      6.3.2\n",
      "tqdm                         4.66.1\n",
      "traitlets                    5.9.0\n",
      "triad                        0.9.8\n",
      "trio                         0.24.0\n",
      "trio-websocket               0.11.1\n",
      "types-python-dateutil        2.8.19.14\n",
      "typing_extensions            4.9.0\n",
      "tzdata                       2023.3\n",
      "uri-template                 1.3.0\n",
      "urllib3                      2.0.5\n",
      "utilsforecast                0.2.5\n",
      "wcwidth                      0.2.6\n",
      "webcolors                    1.13\n",
      "webencodings                 0.5.1\n",
      "websocket-client             1.6.4\n",
      "Werkzeug                     3.0.1\n",
      "wheel                        0.42.0\n",
      "widgetsnbextension           4.0.9\n",
      "wrapt                        1.14.1\n",
      "wsproto                      1.2.0\n",
      "xgboost                      2.0.1\n",
      "xlrd                         2.0.1\n",
      "yarl                         1.15.5\n",
      "yellowbrick                  1.5\n",
      "Note: you may need to restart the kernel to use updated packages.\n"
     ]
    }
   ],
   "source": [
    "pip list"
   ]
  },
  {
   "cell_type": "code",
   "execution_count": null,
   "metadata": {},
   "outputs": [],
   "source": []
  }
 ],
 "metadata": {
  "kernelspec": {
   "display_name": "Python 3",
   "language": "python",
   "name": "python3"
  },
  "language_info": {
   "codemirror_mode": {
    "name": "ipython",
    "version": 3
   },
   "file_extension": ".py",
   "mimetype": "text/x-python",
   "name": "python",
   "nbconvert_exporter": "python",
   "pygments_lexer": "ipython3",
   "version": "3.11.9"
  }
 },
 "nbformat": 4,
 "nbformat_minor": 2
}
