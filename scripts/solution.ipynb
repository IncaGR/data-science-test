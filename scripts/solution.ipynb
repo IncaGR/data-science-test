{
 "cells": [
  {
   "cell_type": "code",
   "execution_count": null,
   "metadata": {},
   "outputs": [],
   "source": [
    "import pandas as pd\n",
    "import numpy as np\n",
    "import datetime as dt\n",
    "from datetime import timedelta, datetime\n",
    "\n",
    "import matplotlib.pyplot as plt"
   ]
  },
  {
   "cell_type": "code",
   "execution_count": 3,
   "metadata": {},
   "outputs": [],
   "source": [
    "%matplotlib inline"
   ]
  },
  {
   "cell_type": "markdown",
   "metadata": {},
   "source": [
    "# 1st Scenario"
   ]
  },
  {
   "cell_type": "code",
   "execution_count": 4,
   "metadata": {},
   "outputs": [],
   "source": [
    "# given mean trip duration\n",
    "mean_trip = 100\n",
    "# assumed standard deviation\n",
    "std_trip = 20\n",
    "# number of trips\n",
    "n_trip = 10000\n",
    "# % RPC lost\n",
    "shrinkage_rate = 0.1 \n",
    "# replication\n",
    "np.random.seed(42)"
   ]
  },
  {
   "cell_type": "code",
   "execution_count": null,
   "metadata": {},
   "outputs": [],
   "source": [
    "# simulate a trip duration with normal distribution\n",
    "sim = np.random.normal(mean_trip, std_trip, n_trip)"
   ]
  },
  {
   "cell_type": "code",
   "execution_count": null,
   "metadata": {},
   "outputs": [
    {
     "data": {
      "text/plain": [
       "(array([  1.,   1.,   1.,   0.,   1.,   0.,   0.,   0.,   3.,   3.,   0.,\n",
       "          4.,   7.,  11.,   4.,   8.,  10.,  10.,  14.,  20.,  11.,  28.,\n",
       "         34.,  42.,  45.,  49.,  59.,  76.,  60.,  81., 110., 103., 144.,\n",
       "        120., 146., 159., 175., 204., 199., 245., 233., 235., 276., 277.,\n",
       "        273., 298., 303., 315., 285., 336., 311., 301., 317., 299., 296.,\n",
       "        292., 276., 260., 266., 226., 212., 181., 190., 188., 160., 162.,\n",
       "        125., 126., 106.,  93.,  99.,  83.,  60.,  50.,  47.,  39.,  47.,\n",
       "         34.,  19.,  20.,  16.,  15.,  15.,  10.,   7.,   8.,   2.,   6.,\n",
       "          2.,   7.,   3.,   1.,   0.,   1.,   1.,   0.,   0.,   0.,   0.,\n",
       "          2.]),\n",
       " array([ 21.55199497,  23.12172256,  24.69145015,  26.26117774,\n",
       "         27.83090533,  29.40063293,  30.97036052,  32.54008811,\n",
       "         34.1098157 ,  35.67954329,  37.24927088,  38.81899848,\n",
       "         40.38872607,  41.95845366,  43.52818125,  45.09790884,\n",
       "         46.66763643,  48.23736403,  49.80709162,  51.37681921,\n",
       "         52.9465468 ,  54.51627439,  56.08600198,  57.65572957,\n",
       "         59.22545717,  60.79518476,  62.36491235,  63.93463994,\n",
       "         65.50436753,  67.07409512,  68.64382272,  70.21355031,\n",
       "         71.7832779 ,  73.35300549,  74.92273308,  76.49246067,\n",
       "         78.06218827,  79.63191586,  81.20164345,  82.77137104,\n",
       "         84.34109863,  85.91082622,  87.48055382,  89.05028141,\n",
       "         90.620009  ,  92.18973659,  93.75946418,  95.32919177,\n",
       "         96.89891936,  98.46864696, 100.03837455, 101.60810214,\n",
       "        103.17782973, 104.74755732, 106.31728491, 107.88701251,\n",
       "        109.4567401 , 111.02646769, 112.59619528, 114.16592287,\n",
       "        115.73565046, 117.30537806, 118.87510565, 120.44483324,\n",
       "        122.01456083, 123.58428842, 125.15401601, 126.72374361,\n",
       "        128.2934712 , 129.86319879, 131.43292638, 133.00265397,\n",
       "        134.57238156, 136.14210916, 137.71183675, 139.28156434,\n",
       "        140.85129193, 142.42101952, 143.99074711, 145.5604747 ,\n",
       "        147.1302023 , 148.69992989, 150.26965748, 151.83938507,\n",
       "        153.40911266, 154.97884025, 156.54856785, 158.11829544,\n",
       "        159.68802303, 161.25775062, 162.82747821, 164.3972058 ,\n",
       "        165.9669334 , 167.53666099, 169.10638858, 170.67611617,\n",
       "        172.24584376, 173.81557135, 175.38529895, 176.95502654,\n",
       "        178.52475413]),\n",
       " <BarContainer object of 100 artists>)"
      ]
     },
     "execution_count": 6,
     "metadata": {},
     "output_type": "execute_result"
    },
    {
     "data": {
      "image/png": "[encoded data removed]",
      "text/plain": [
       "<Figure size 640x480 with 1 Axes>"
      ]
     },
     "metadata": {},
     "output_type": "display_data"
    }
   ],
   "source": [
    "plt.hist(sim, bins=100, alpha=0.6, color='g')"
   ]
  },
  {
   "cell_type": "code",
   "execution_count": null,
   "metadata": {},
   "outputs": [
    {
     "data": {
      "text/plain": [
       "(array([  1.,   1.,   2.,   0.,   2.,   3.,   0.,   3.,   1.,   0.,   5.,\n",
       "          7.,  11.,   0.,  16.,  24.,   0.,  26.,  25.,   0.,  39.,  50.,\n",
       "         67.,   0.,  86.,  79.,   0., 131., 136.,   0., 135., 165., 205.,\n",
       "          0., 232., 243.,   0., 282., 293.,   0., 309., 329., 379.,   0.,\n",
       "        360., 387.,   0., 373., 405.,   0., 474., 395., 403.,   0., 382.,\n",
       "        378.,   0., 356., 313.,   0., 326., 276., 258.,   0., 204., 215.,\n",
       "          0., 180., 162.,   0., 148., 118.,  97.,   0., 108.,  62.,   0.,\n",
       "         73.,  50.,   0.,  35.,  38.,  38.,   0.,  25.,  17.,   0.,  12.,\n",
       "         11.,   0.,   6.,   9.,   3.,   0.,   4.,   6.,   0.,   4.,   1.,\n",
       "          1.]),\n",
       " array([ 65. ,  65.7,  66.4,  67.1,  67.8,  68.5,  69.2,  69.9,  70.6,\n",
       "         71.3,  72. ,  72.7,  73.4,  74.1,  74.8,  75.5,  76.2,  76.9,\n",
       "         77.6,  78.3,  79. ,  79.7,  80.4,  81.1,  81.8,  82.5,  83.2,\n",
       "         83.9,  84.6,  85.3,  86. ,  86.7,  87.4,  88.1,  88.8,  89.5,\n",
       "         90.2,  90.9,  91.6,  92.3,  93. ,  93.7,  94.4,  95.1,  95.8,\n",
       "         96.5,  97.2,  97.9,  98.6,  99.3, 100. , 100.7, 101.4, 102.1,\n",
       "        102.8, 103.5, 104.2, 104.9, 105.6, 106.3, 107. , 107.7, 108.4,\n",
       "        109.1, 109.8, 110.5, 111.2, 111.9, 112.6, 113.3, 114. , 114.7,\n",
       "        115.4, 116.1, 116.8, 117.5, 118.2, 118.9, 119.6, 120.3, 121. ,\n",
       "        121.7, 122.4, 123.1, 123.8, 124.5, 125.2, 125.9, 126.6, 127.3,\n",
       "        128. , 128.7, 129.4, 130.1, 130.8, 131.5, 132.2, 132.9, 133.6,\n",
       "        134.3, 135. ]),\n",
       " <BarContainer object of 100 artists>)"
      ]
     },
     "execution_count": 7,
     "metadata": {},
     "output_type": "execute_result"
    },
    {
     "data": {
      "image/png": "[encoded data removed]",
      "text/plain": [
       "<Figure size 640x480 with 1 Axes>"
      ]
     },
     "metadata": {},
     "output_type": "display_data"
    }
   ],
   "source": [
    "# simulating a trip duration with poisson distribution\n",
    "sim_p = np.random.poisson(100,10000)\n",
    "\n",
    "plt.hist(sim_p, bins=100, alpha=0.6, color='r')"
   ]
  },
  {
   "cell_type": "code",
   "execution_count": null,
   "metadata": {},
   "outputs": [
    {
     "name": "stdout",
     "output_type": "stream",
     "text": [
      "21.55199496763315 178.52475412872653\n",
      "65 135\n"
     ]
    }
   ],
   "source": [
    "# see the min and max values of the two distributions\n",
    "print(sim.min(),\n",
    "sim.max())\n",
    "print(sim_p.min(),\n",
    "sim_p.max())"
   ]
  },
  {
   "cell_type": "code",
   "execution_count": null,
   "metadata": {},
   "outputs": [
    {
     "name": "stdout",
     "output_type": "stream",
     "text": [
      "2020-01-01 00:00:00\n",
      "[datetime.datetime(2022, 9, 15, 0, 0), datetime.datetime(2020, 6, 20, 0, 0), datetime.datetime(2021, 11, 5, 0, 0), datetime.datetime(2022, 3, 7, 0, 0), datetime.datetime(2020, 8, 31, 0, 0), datetime.datetime(2021, 2, 24, 0, 0), datetime.datetime(2021, 1, 13, 0, 0), datetime.datetime(2020, 12, 6, 0, 0), datetime.datetime(2022, 8, 11, 0, 0), datetime.datetime(2021, 11, 1, 0, 0)]\n"
     ]
    }
   ],
   "source": [
    "print(start_date)\n",
    "print(rental_dates[:10])\n"
   ]
  },
  {
   "cell_type": "code",
   "execution_count": null,
   "metadata": {},
   "outputs": [],
   "source": [
    "# randomly create a list with the lost assets\n",
    "is_lost = np.random.rand(n_trip) < shrinkage_rate\n",
    "return_dates = [\n",
    "    rental_dates[i] + timedelta(days=int(sim_p[i])) if not is_lost[i] else None\n",
    "    for i in range(n_trip)\n",
    "]"
   ]
  },
  {
   "cell_type": "code",
   "execution_count": 11,
   "metadata": {},
   "outputs": [
    {
     "data": {
      "text/html": [
       "<div>\n",
       "<style scoped>\n",
       "    .dataframe tbody tr th:only-of-type {\n",
       "        vertical-align: middle;\n",
       "    }\n",
       "\n",
       "    .dataframe tbody tr th {\n",
       "        vertical-align: top;\n",
       "    }\n",
       "\n",
       "    .dataframe thead th {\n",
       "        text-align: right;\n",
       "    }\n",
       "</style>\n",
       "<table border=\"1\" class=\"dataframe\">\n",
       "  <thead>\n",
       "    <tr style=\"text-align: right;\">\n",
       "      <th></th>\n",
       "      <th>rental_date</th>\n",
       "      <th>return_date</th>\n",
       "      <th>is_lost</th>\n",
       "      <th>n_days</th>\n",
       "      <th>sim_p</th>\n",
       "    </tr>\n",
       "  </thead>\n",
       "  <tbody>\n",
       "    <tr>\n",
       "      <th>0</th>\n",
       "      <td>2022-09-15</td>\n",
       "      <td>2022-12-19</td>\n",
       "      <td>False</td>\n",
       "      <td>95.0</td>\n",
       "      <td>95</td>\n",
       "    </tr>\n",
       "    <tr>\n",
       "      <th>1</th>\n",
       "      <td>2020-06-20</td>\n",
       "      <td>2020-09-10</td>\n",
       "      <td>False</td>\n",
       "      <td>82.0</td>\n",
       "      <td>82</td>\n",
       "    </tr>\n",
       "    <tr>\n",
       "      <th>2</th>\n",
       "      <td>2021-11-05</td>\n",
       "      <td>2022-02-15</td>\n",
       "      <td>False</td>\n",
       "      <td>102.0</td>\n",
       "      <td>102</td>\n",
       "    </tr>\n",
       "    <tr>\n",
       "      <th>3</th>\n",
       "      <td>2022-03-07</td>\n",
       "      <td>2022-06-10</td>\n",
       "      <td>False</td>\n",
       "      <td>95.0</td>\n",
       "      <td>95</td>\n",
       "    </tr>\n",
       "    <tr>\n",
       "      <th>4</th>\n",
       "      <td>2020-08-31</td>\n",
       "      <td>2020-12-03</td>\n",
       "      <td>False</td>\n",
       "      <td>94.0</td>\n",
       "      <td>94</td>\n",
       "    </tr>\n",
       "  </tbody>\n",
       "</table>\n",
       "</div>"
      ],
      "text/plain": [
       "  rental_date return_date  is_lost  n_days  sim_p\n",
       "0  2022-09-15  2022-12-19    False    95.0     95\n",
       "1  2020-06-20  2020-09-10    False    82.0     82\n",
       "2  2021-11-05  2022-02-15    False   102.0    102\n",
       "3  2022-03-07  2022-06-10    False    95.0     95\n",
       "4  2020-08-31  2020-12-03    False    94.0     94"
      ]
     },
     "execution_count": 11,
     "metadata": {},
     "output_type": "execute_result"
    }
   ],
   "source": [
    "# Create a DataFrame\n",
    "data = pd.DataFrame({\n",
    "    \"rental_date\": rental_dates,\n",
    "    \"return_date\": return_dates,\n",
    "    \"is_lost\": is_lost\n",
    "})\n",
    "\n",
    "data['n_days'] = (data['return_date'] - data['rental_date']).dt.days\n",
    "data['sim_p'] = sim_p\n",
    "\n",
    "data.head()"
   ]
  },
  {
   "cell_type": "code",
   "execution_count": 12,
   "metadata": {},
   "outputs": [
    {
     "data": {
      "text/html": [
       "<div>\n",
       "<style scoped>\n",
       "    .dataframe tbody tr th:only-of-type {\n",
       "        vertical-align: middle;\n",
       "    }\n",
       "\n",
       "    .dataframe tbody tr th {\n",
       "        vertical-align: top;\n",
       "    }\n",
       "\n",
       "    .dataframe thead th {\n",
       "        text-align: right;\n",
       "    }\n",
       "</style>\n",
       "<table border=\"1\" class=\"dataframe\">\n",
       "  <thead>\n",
       "    <tr style=\"text-align: right;\">\n",
       "      <th></th>\n",
       "      <th>rental_date</th>\n",
       "      <th>return_date</th>\n",
       "      <th>is_lost</th>\n",
       "      <th>n_days</th>\n",
       "      <th>sim_p</th>\n",
       "    </tr>\n",
       "  </thead>\n",
       "  <tbody>\n",
       "    <tr>\n",
       "      <th>13</th>\n",
       "      <td>2020-07-06</td>\n",
       "      <td>NaT</td>\n",
       "      <td>True</td>\n",
       "      <td>NaN</td>\n",
       "      <td>107</td>\n",
       "    </tr>\n",
       "    <tr>\n",
       "      <th>17</th>\n",
       "      <td>2022-04-16</td>\n",
       "      <td>NaT</td>\n",
       "      <td>True</td>\n",
       "      <td>NaN</td>\n",
       "      <td>108</td>\n",
       "    </tr>\n",
       "    <tr>\n",
       "      <th>18</th>\n",
       "      <td>2021-08-13</td>\n",
       "      <td>NaT</td>\n",
       "      <td>True</td>\n",
       "      <td>NaN</td>\n",
       "      <td>89</td>\n",
       "    </tr>\n",
       "    <tr>\n",
       "      <th>23</th>\n",
       "      <td>2021-06-19</td>\n",
       "      <td>NaT</td>\n",
       "      <td>True</td>\n",
       "      <td>NaN</td>\n",
       "      <td>82</td>\n",
       "    </tr>\n",
       "    <tr>\n",
       "      <th>26</th>\n",
       "      <td>2021-10-20</td>\n",
       "      <td>NaT</td>\n",
       "      <td>True</td>\n",
       "      <td>NaN</td>\n",
       "      <td>115</td>\n",
       "    </tr>\n",
       "    <tr>\n",
       "      <th>...</th>\n",
       "      <td>...</td>\n",
       "      <td>...</td>\n",
       "      <td>...</td>\n",
       "      <td>...</td>\n",
       "      <td>...</td>\n",
       "    </tr>\n",
       "    <tr>\n",
       "      <th>9976</th>\n",
       "      <td>2020-02-04</td>\n",
       "      <td>NaT</td>\n",
       "      <td>True</td>\n",
       "      <td>NaN</td>\n",
       "      <td>99</td>\n",
       "    </tr>\n",
       "    <tr>\n",
       "      <th>9977</th>\n",
       "      <td>2022-06-13</td>\n",
       "      <td>NaT</td>\n",
       "      <td>True</td>\n",
       "      <td>NaN</td>\n",
       "      <td>114</td>\n",
       "    </tr>\n",
       "    <tr>\n",
       "      <th>9980</th>\n",
       "      <td>2020-07-02</td>\n",
       "      <td>NaT</td>\n",
       "      <td>True</td>\n",
       "      <td>NaN</td>\n",
       "      <td>107</td>\n",
       "    </tr>\n",
       "    <tr>\n",
       "      <th>9992</th>\n",
       "      <td>2022-03-07</td>\n",
       "      <td>NaT</td>\n",
       "      <td>True</td>\n",
       "      <td>NaN</td>\n",
       "      <td>109</td>\n",
       "    </tr>\n",
       "    <tr>\n",
       "      <th>9995</th>\n",
       "      <td>2022-06-19</td>\n",
       "      <td>NaT</td>\n",
       "      <td>True</td>\n",
       "      <td>NaN</td>\n",
       "      <td>96</td>\n",
       "    </tr>\n",
       "  </tbody>\n",
       "</table>\n",
       "<p>975 rows × 5 columns</p>\n",
       "</div>"
      ],
      "text/plain": [
       "     rental_date return_date  is_lost  n_days  sim_p\n",
       "13    2020-07-06         NaT     True     NaN    107\n",
       "17    2022-04-16         NaT     True     NaN    108\n",
       "18    2021-08-13         NaT     True     NaN     89\n",
       "23    2021-06-19         NaT     True     NaN     82\n",
       "26    2021-10-20         NaT     True     NaN    115\n",
       "...          ...         ...      ...     ...    ...\n",
       "9976  2020-02-04         NaT     True     NaN     99\n",
       "9977  2022-06-13         NaT     True     NaN    114\n",
       "9980  2020-07-02         NaT     True     NaN    107\n",
       "9992  2022-03-07         NaT     True     NaN    109\n",
       "9995  2022-06-19         NaT     True     NaN     96\n",
       "\n",
       "[975 rows x 5 columns]"
      ]
     },
     "execution_count": 12,
     "metadata": {},
     "output_type": "execute_result"
    }
   ],
   "source": [
    "data.loc[data.is_lost == True]"
   ]
  },
  {
   "cell_type": "code",
   "execution_count": 13,
   "metadata": {},
   "outputs": [
    {
     "data": {
      "text/plain": [
       "9025"
      ]
     },
     "execution_count": 13,
     "metadata": {},
     "output_type": "execute_result"
    }
   ],
   "source": [
    "sum(data['is_lost']==False) "
   ]
  },
  {
   "cell_type": "markdown",
   "metadata": {},
   "source": [
    "## Shrinkage estimator"
   ]
  },
  {
   "cell_type": "code",
   "execution_count": 14,
   "metadata": {},
   "outputs": [],
   "source": [
    "from lifelines import KaplanMeierFitter"
   ]
  },
  {
   "cell_type": "code",
   "execution_count": 15,
   "metadata": {},
   "outputs": [],
   "source": [
    "# Prepare survival data\n",
    "data['trip_completed'] = data['return_date'].notnull()  # 1 if returned, 0 if lost\n",
    "data['trip_duration'] = (data['return_date'] - data['rental_date']).dt.days\n",
    "data['trip_duration'].fillna(data['trip_duration'].max(), inplace=True)  # Handle NaN for lost RPCs"
   ]
  },
  {
   "cell_type": "code",
   "execution_count": 16,
   "metadata": {},
   "outputs": [
    {
     "data": {
      "text/plain": [
       "(array([  13.,  105.,  535., 1388., 2328., 2415., 1470.,  584.,  158.,\n",
       "        1004.]),\n",
       " array([ 65.,  72.,  79.,  86.,  93., 100., 107., 114., 121., 128., 135.]),\n",
       " <BarContainer object of 10 artists>)"
      ]
     },
     "execution_count": 16,
     "metadata": {},
     "output_type": "execute_result"
    },
    {
     "data": {
      "image/png": "[encoded data removed]",
      "text/plain": [
       "<Figure size 640x480 with 1 Axes>"
      ]
     },
     "metadata": {},
     "output_type": "display_data"
    }
   ],
   "source": [
    "plt.hist(data['trip_duration'])"
   ]
  },
  {
   "cell_type": "code",
   "execution_count": 17,
   "metadata": {},
   "outputs": [
    {
     "data": {
      "text/plain": [
       "<lifelines.KaplanMeierFitter:\"KM_estimate\", fitted with 10000 total observations, 975 right-censored observations>"
      ]
     },
     "execution_count": 17,
     "metadata": {},
     "output_type": "execute_result"
    }
   ],
   "source": [
    "# Fit Kaplan-Meier estimator\n",
    "kmf = KaplanMeierFitter()\n",
    "kmf.fit(data['trip_duration'], event_observed=data['trip_completed'])"
   ]
  },
  {
   "cell_type": "code",
   "execution_count": 22,
   "metadata": {},
   "outputs": [
    {
     "data": {
      "image/png": "[encoded data removed]",
      "text/plain": [
       "<Figure size 640x480 with 1 Axes>"
      ]
     },
     "metadata": {},
     "output_type": "display_data"
    }
   ],
   "source": [
    "# Plot survival curve\n",
    "kmf.plot_survival_function()\n",
    "# kmf.survival_function_\n",
    "plt.title('Survival Function (Probability of RPC Not Being Lost)')\n",
    "plt.xlabel('Days Since Rental')\n",
    "plt.ylabel('Survival Probability')\n",
    "plt.show()"
   ]
  },
  {
   "cell_type": "code",
   "execution_count": 24,
   "metadata": {},
   "outputs": [
    {
     "name": "stdout",
     "output_type": "stream",
     "text": [
      "          KM_estimate\n",
      "timeline             \n",
      "0.0            1.0000\n",
      "65.0           0.9999\n",
      "66.0           0.9998\n",
      "67.0           0.9996\n",
      "68.0           0.9994\n",
      "...               ...\n",
      "131.0          0.0985\n",
      "132.0          0.0980\n",
      "133.0          0.0977\n",
      "134.0          0.0976\n",
      "135.0          0.0975\n",
      "\n",
      "[72 rows x 1 columns]\n"
     ]
    }
   ],
   "source": [
    "kmf.median_survival_time_\n",
    "\n",
    "print(kmf.survival_function_)"
   ]
  },
  {
   "cell_type": "code",
   "execution_count": 48,
   "metadata": {},
   "outputs": [
    {
     "name": "stdout",
     "output_type": "stream",
     "text": [
      "Shrinkage rate at day 100: 0.4801\n"
     ]
    }
   ],
   "source": [
    "# Shrinkage rate at day n\n",
    "DAY = 100 # change this value to see the shrinkage rate at different days\n",
    "day_n_survival = kmf.survival_function_at_times(DAY).values[0]\n",
    "day_n_survival\n",
    "shrinkage_rate_at_n = 1 - day_n_survival\n",
    "print(f\"Shrinkage rate at day {DAY}: {shrinkage_rate_at_n:.4f}\")\n"
   ]
  },
  {
   "cell_type": "markdown",
   "metadata": {},
   "source": [
    "## Pool size"
   ]
  },
  {
   "cell_type": "code",
   "execution_count": 46,
   "metadata": {},
   "outputs": [
    {
     "data": {
      "image/png": "[encoded data removed]",
      "text/plain": [
       "<Figure size 640x480 with 1 Axes>"
      ]
     },
     "metadata": {},
     "output_type": "display_data"
    }
   ],
   "source": [
    "# Parameters for simulation\n",
    "initial_pool_size = 5000  # Starting number of RPCs\n",
    "rental_rate = 50  # Number of RPCs rented out each day\n",
    "days_to_simulate = 365  # Number of days to simulate (1 year)\n",
    "\n",
    "# Simulate assets rented out and returned over time\n",
    "available_assets = initial_pool_size\n",
    "assets_out = 0\n",
    "assets_returned = 0\n",
    "shrinkage_rate = 0.1  # Shrinkage rate: 10% of assets don't return\n",
    "\n",
    "# Create a list to store the pool size over time\n",
    "pool_sizes = []\n",
    "\n",
    "for day in range(days_to_simulate):\n",
    "    # Simulate number of assets rented out (could be a random number or fixed rate)\n",
    "    rented_today = rental_rate\n",
    "    assets_out += rented_today\n",
    "    \n",
    "    # Simulate the number of assets returning (based on survival probabilities)\n",
    "    # Let's assume average trip duration is 100 days, using the Kaplan-Meier survival function.\n",
    "    # For simplicity, we'll assume all assets rented 100 days ago have returned.\n",
    "    return_probability = kmf.survival_function_at_times(100).values[0]  # Survival at 100 days\n",
    "    returned_today = int(assets_out * return_probability)\n",
    "    \n",
    "    # Simulate shrinkage (number of assets that don't return)\n",
    "    lost_today = int(assets_out * (1 - return_probability) * shrinkage_rate)\n",
    "    \n",
    "    # Update the pool size\n",
    "    available_assets = initial_pool_size + returned_today - rented_today - lost_today\n",
    "    pool_sizes.append(available_assets)\n",
    "    \n",
    "    # Update the number of assets out (subtract the ones that have returned)\n",
    "    assets_out -= returned_today\n",
    "\n",
    "# Plot the pool size over time\n",
    "plt.plot(pool_sizes)\n",
    "plt.title(\"Estimated Pool Size Over Time\")\n",
    "plt.xlabel(\"Days\")\n",
    "plt.ylabel(\"Pool Size\")\n",
    "plt.show()\n"
   ]
  },
  {
   "cell_type": "code",
   "execution_count": null,
   "metadata": {},
   "outputs": [
    {
     "data": {
      "text/plain": [
       "[4973, 4985, 4991, 4993, 4995, 4995, 4996, 4996, 4996, 4996]"
      ]
     },
     "execution_count": 49,
     "metadata": {},
     "output_type": "execute_result"
    }
   ],
   "source": [
    "# stable pool size after 5 days\n",
    "pool_sizes[0:10]"
   ]
  },
  {
   "cell_type": "code",
   "execution_count": null,
   "metadata": {},
   "outputs": [],
   "source": []
  }
 ],
 "metadata": {
  "kernelspec": {
   "display_name": "Python 3 (ipykernel)",
   "language": "python",
   "name": "python3"
  },
  "language_info": {
   "codemirror_mode": {
    "name": "ipython",
    "version": 3
   },
   "file_extension": ".py",
   "mimetype": "text/x-python",
   "name": "python",
   "nbconvert_exporter": "python",
   "pygments_lexer": "ipython3",
   "version": "3.8.20"
  }
 },
 "nbformat": 4,
 "nbformat_minor": 2
}
